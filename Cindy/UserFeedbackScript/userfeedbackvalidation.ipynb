{
 "cells": [
  {
   "cell_type": "markdown",
   "metadata": {},
   "source": [
    "# Cindy Ho 127008544 User Feedback Prediction Algorithm"
   ]
  },
  {
   "cell_type": "code",
   "execution_count": 14,
   "metadata": {},
   "outputs": [],
   "source": [
    "import csv #library for importing csv files\n",
    "import firebase_admin #needed for connecting to database\n",
    "from firebase_admin import credentials #needed for certifying password to database\n",
    "from firebase_admin import firestore #needed for admin access to database\n",
    "import pandas as pd #for pandas dataframe - structure of organizing data\n",
    "from sklearn.model_selection import train_test_split #used to split dataset into training and testing dataset\n",
    "import numpy as np \n",
    "from sklearn import neighbors #import library for KNN\n",
    "from sklearn.metrics import accuracy_score, classification_report, confusion_matrix, f1_score, precision_score\n",
    "#imports tools needed to verify results of models\n",
    "from skl2onnx import convert_sklearn\n"
   ]
  },
  {
   "cell_type": "markdown",
   "metadata": {},
   "source": [
    "# Connection to Firebase Database"
   ]
  },
  {
   "cell_type": "code",
   "execution_count": 15,
   "metadata": {},
   "outputs": [],
   "source": [
    "#the purpose of this is to gain access to the database\n",
    "if not firebase_admin._apps: #using a if not statement to prevent overwriting over same password key\n",
    "    #saves to cred variable of admin password key\n",
    "    cred = credentials.Certificate(r\"C:\\Users\\cindy\\OneDrive\\Documents\\403\\perfectpourovercoffee-3c0ce-firebase-adminsdk-h2jgk-1590472422.json\")\n",
    "    \n",
    "    #calls upon firebase admin library and inserts password key to gain access to private database\n",
    "    default_app = firebase_admin.initialize_app(cred)\n",
    "    \n",
    "\n",
    "db = firestore.client() #saves db as the database\n"
   ]
  },
  {
   "cell_type": "markdown",
   "metadata": {},
   "source": [
    "# Collects user dataset from CSV file and writes to database"
   ]
  },
  {
   "cell_type": "code",
   "execution_count": 118,
   "metadata": {},
   "outputs": [],
   "source": [
    "#read from my csv user feedback file and then write it to the database\n",
    "rows = [] #created a list\n",
    "with open(r'C:\\Users\\cindy\\OneDrive\\Documents\\403\\UserFeedbackS1.csv','r') as file: #opens csv input \n",
    "    csv_reader = csv.reader(file, delimiter=',') #reads from csv file\n",
    "    for row in csv_reader: #iterates through csv\n",
    "        rows.append(row) #appends to list while it iterates through csv\n",
    "        doc_ref = { #generates brew data\n",
    "            'user_id': row[0], #takes first value and sets as user id value\n",
    "            'cup_size': row[1], #takes second value and sets as cup size value\n",
    "            'roast_type': row[2], #takes third value and sets as roast type value\n",
    "            'bean_type': row[3], #takes fourth value and sets as coffee bean type value\n",
    "            'strength': row[4], #takes fifth value and sets as user preferred strength value\n",
    "            'rating': row[5], #takes sixth value and sets as user rating value\n",
    "            'temperature': row[6], #takes seventh value and sets as target temperature value\n",
    "            'grind_size': row[7], #takes eighth value and sets as recommended grind size value\n",
    "            'target_saturation': row[8] #takes ninth value and sets as target water volume value\n",
    "        }\n",
    "        db.collection('trainingandvalidating4').add(doc_ref) #all these datapoints are saved as one collection / folder "
   ]
  },
  {
   "cell_type": "markdown",
   "metadata": {},
   "source": [
    "# K-Nearest Neighbors Model Train & Validation"
   ]
  },
  {
   "cell_type": "code",
   "execution_count": null,
   "metadata": {},
   "outputs": [],
   "source": [
    "docs = db.collection('trainingandvalidating').stream() #reads from all documents in a collection of the database\n",
    "data = pd.DataFrame() #this creates the pandas dataframe containing all of the user feedback from the database\n",
    "for doc in docs: #iterates through the document stream \n",
    "    print(f'{doc.id} => {doc.to_dict()}') #shows programmer what is being saved\n",
    "    data = data.append(doc.to_dict(),ignore_index=True) # appends it to my pandas dataframe"
   ]
  },
  {
   "cell_type": "markdown",
   "metadata": {},
   "source": [
    "# Clean Data"
   ]
  },
  {
   "cell_type": "code",
   "execution_count": 124,
   "metadata": {},
   "outputs": [
    {
     "name": "stdout",
     "output_type": "stream",
     "text": [
      "<class 'pandas.core.frame.DataFrame'>\n",
      "Int64Index: 1895 entries, 1 to 2219\n",
      "Data columns (total 10 columns):\n",
      " #   Column             Non-Null Count  Dtype  \n",
      "---  ------             --------------  -----  \n",
      " 0   target_saturation  1895 non-null   float64\n",
      " 1   rating             1895 non-null   float64\n",
      " 2   cup_size           1895 non-null   float64\n",
      " 3   grind_size         1895 non-null   float64\n",
      " 4   strength           1895 non-null   float64\n",
      " 5   bean_type          1895 non-null   float64\n",
      " 6   temperature        1895 non-null   float64\n",
      " 7   roast_type         1895 non-null   float64\n",
      " 8   user_id            1895 non-null   float64\n",
      " 9   water_volume       0 non-null      float64\n",
      "dtypes: float64(10)\n",
      "memory usage: 162.9 KB\n"
     ]
    }
   ],
   "source": [
    "#this replaces all of the string values of coffee bean type and converting it to float values\n",
    "data['bean_type'].loc[data['bean_type'] == 'robusta'] = 1.0 #converting robusta to 1\n",
    "data['bean_type'].loc[data['bean_type'] == 'arabica'] = 2.0 #converting arabica to 2\n",
    "data['bean_type'].loc[data['bean_type'] == 'liberica'] = 3.0 #converting liberica to 3\n",
    "data['bean_type'].loc[data['bean_type'] == 'excelsa'] = 4.0 #converting excelsa to 4\n",
    "\n",
    "#this replaces all of the string values of grind size and converting it to float values\n",
    "data['grind_size'].loc[data['grind_size'] == 'medium'] = 0.0 #converting medium to 0\n",
    "data['grind_size'].loc[data['grind_size'] == 'larger'] = 1.0 #converting larger to 1\n",
    "data['grind_size'].loc[data['grind_size'] == 'smaller'] = 2.0 #converting smaller to 2\n",
    "\n",
    "#this replaces all of the string values of roast type and converting it to float values\n",
    "data['roast_type'].loc[data['roast_type'] == 'mild'] = 0.0 #converting mild to 0\n",
    "data['roast_type'].loc[data['roast_type'] == 'medium'] = 1.0 #converting medium to 1\n",
    "data['roast_type'].loc[data['roast_type'] == 'mediumdark'] = 2.0 #converting mediumdark to 2\n",
    "data['roast_type'].loc[data['roast_type'] == 'dark'] = 3.0 #converting dark to 3\n",
    "\n",
    "#converts all strings/objects into floats\n",
    "data = data._convert(numeric=True)\n",
    "\n",
    "#deletes all non-null responses\n",
    "data.dropna(subset=['user_id', #takes first value and sets as user id value\n",
    "            'cup_size', #takes second value and sets as cup size value\n",
    "            'roast_type', #takes third value and sets as roast type value\n",
    "            'bean_type', #takes fourth value and sets as coffee bean type value\n",
    "            'strength', #takes fifth value and sets as user preferred strength value\n",
    "            'rating', #takes sixth value and sets as user rating value\n",
    "            'temperature', #takes seventh value and sets as target temperature value\n",
    "            'grind_size', #takes eighth value and sets as recommended grind size value\n",
    "            'target_saturation'], inplace=True)\n",
    "\n",
    "#checking dataframe for there's any non-null responses\n",
    "data.info() "
   ]
  },
  {
   "cell_type": "markdown",
   "metadata": {},
   "source": [
    "# KNN Model for Strength"
   ]
  },
  {
   "cell_type": "code",
   "execution_count": 125,
   "metadata": {},
   "outputs": [
    {
     "name": "stdout",
     "output_type": "stream",
     "text": [
      "accuracy = 0.6965699208443272\n",
      "confusion matrix\n",
      "[[ 58  38  17]\n",
      " [ 11 131   7]\n",
      " [ 13  29  75]]\n"
     ]
    },
    {
     "name": "stderr",
     "output_type": "stream",
     "text": [
      "C:\\Users\\cindy\\Anaconda3\\lib\\site-packages\\sklearn\\neighbors\\_classification.py:198: DataConversionWarning: A column-vector y was passed when a 1d array was expected. Please change the shape of y to (n_samples,), for example using ravel().\n",
      "  return self._fit(X, y)\n"
     ]
    }
   ],
   "source": [
    "#first splitting 60% out for training then 40% for validation & testing\n",
    "x_train, x_test, y_train, y_test = train_test_split(data[['roast_type','bean_type','rating']].values, data[['strength']].values, test_size=0.2, random_state=42) \n",
    "\n",
    "#then splitting the 40% into 20% validation & 20% testing\n",
    "x_train, x_validate, y_train, y_validate = train_test_split(x_train, y_train, test_size=0.25, random_state=42) \n",
    "\n",
    "knn_strength = neighbors.KNeighborsClassifier(n_neighbors=9) #set K Nearest Neighbors model as variable \n",
    "knn_strength.fit(x_train, y_train) #fitting training independent and dependent data \n",
    "y_pred = knn_strength.predict(x_validate) #model predict independent validation dataset values\n",
    "\n",
    "#outputs accuracy score of dependent validate values and predicted independent values\n",
    "#accuracy score: calculate the accuracy of faction of correct prediction\n",
    "#(TP+TN)/ (TP+FN+TN+FP)\n",
    "print('accuracy =', accuracy_score(y_validate, y_pred))\n",
    "\n",
    "#outputs confusion matrix of dependent validate values and predicted independent values\n",
    "print('confusion matrix')\n",
    "print(confusion_matrix(y_validate, y_pred))\n",
    "\n"
   ]
  },
  {
   "cell_type": "markdown",
   "metadata": {},
   "source": [
    "# KNN Model for Temperature"
   ]
  },
  {
   "cell_type": "code",
   "execution_count": 126,
   "metadata": {},
   "outputs": [
    {
     "name": "stdout",
     "output_type": "stream",
     "text": [
      "accuracy = 0.7044854881266491\n",
      "confusion matrix\n",
      "[[11  0  0  0  0  0  0  0  1  0  0  0  0  0  1  0  0  0  0  0  0  0  0  0\n",
      "   0  0  0  0  0]\n",
      " [ 0  1  0  0  0  0  0  0  0  0  0  0  0  0  0  0  0  0  0  0  0  0  0  0\n",
      "   0  0  0  0  0]\n",
      " [ 0  0  5  0  0  0  0  0  0  0  4  0  0  0  0  0  0  0  0  0  0  0  0  0\n",
      "   0  0  0  0  0]\n",
      " [ 0  0  0 13  0  0  0  0  0  3  0  0  0  0  0  0  0  0  0  0  0  0  0  0\n",
      "   0  0  0  0  0]\n",
      " [ 0  0  0  0 20  0  0  0  0  0  0  0  0  0  0  0  0  0  0  0  0  0  0  0\n",
      "   0  0  0  0  0]\n",
      " [ 0  0  2  0  3 24  0  0  0  0  0  0  0  0  5  0  0  0  0  0  0  0  0  0\n",
      "   0  0  0  0  0]\n",
      " [ 0  0  0  0  0  0 20  0  3  0  0  0  0  0  0  0  0  0  0  0  0  0  0  0\n",
      "   0  0  0  0  0]\n",
      " [ 0  0  0  0  0  9  0 11  0  0  0  0  0  0  0  0  0  0  1  0  0  0  0  0\n",
      "   0  0  0  0  0]\n",
      " [ 0  1  0  0  0  0  4  3 24  0  5  0  0  0  0  5  0  0  0  0  0  0  0  0\n",
      "   0  0  0  0  0]\n",
      " [ 0  0  0  0  0  1  0  0  0 10  0  0  0  0  0  0  1  0  0  3  0  0  0  0\n",
      "   0  0  0  0  0]\n",
      " [ 0  0  0  0  4  0  0  2  3  0 21  0  0  0  0  0  0  0  0  0  0  0  0  0\n",
      "   0  0  0  0  0]\n",
      " [ 0  0  4  0  0  0  0  0  0  0  0 21  0  0  0  0  0  0  0  0  0  0  0  0\n",
      "   0  0  0  0  0]\n",
      " [ 0  0  0  0  0  0  0  0  0  0  0  0 10  0  0  0  0  0  0  0  0  0  0  0\n",
      "   0  0  0  0  0]\n",
      " [ 0  0  0  0  0  3  0  0  0  0  0  0  0  2  0  0  0  0  0  0  0  0  0  0\n",
      "   0  0  0  0  0]\n",
      " [ 0  0  0  0  0  0  0  0  0  0  0  0  0  0  5  0  0  0  0  0  0  0  0  0\n",
      "   0  0  0  0  0]\n",
      " [ 0  0  0  0  0  0  0  0  0  0  0  0  0  0  0  5  0  0  0  0  0  0  0  0\n",
      "   0  0  0  0  0]\n",
      " [ 0  0  0  0  1  0  0  1  0  0  0  0  0  0  0  0  4  0  0  0  0  0  0  0\n",
      "   0  0  0  0  0]\n",
      " [ 0  0  0  0  0  0  0  0  0  0  0  0  0  0  0  0  0  0  3  0  0  0  0  0\n",
      "   0  0  0  0  0]\n",
      " [ 0  0  0  0  0  0  0  0  0  0  0  0  0  0  0  0  0  0  8  0  0  0  0  0\n",
      "   0  0  0  0  0]\n",
      " [ 0  0  0  0  0  0  0  0  0  0  0  0  0  0  0  3  0  0  5  7  0  0  0  0\n",
      "   0  0  0  0  0]\n",
      " [ 0  0  0  0  1  1  1  0  1  0  0  0  0  0  0  5  0  0  0  0  6  0  0  0\n",
      "   0  0  1  0  0]\n",
      " [ 0  0  0  0  0  0  0  0  0  0  0  0  0  0  0  0  0  0  0  0  0  8  3  0\n",
      "   0  0  0  0  0]\n",
      " [ 0  0  0  0  0  0  0  0  0  0  2  0  0  0  0  0  0  0  0  0  0  0  6  0\n",
      "   0  0  0  0  0]\n",
      " [ 0  0  0  0  0  0  0  0  1  0  0  0  0  0  3  0  0  0  0  0  0  0  0  4\n",
      "   0  0  0  0  0]\n",
      " [ 0  0  0  0  0  0  0  1  0  0  0  0  0  0  0  0  0  0  0  0  0  0  0  1\n",
      "   2  0  0  0  0]\n",
      " [ 0  0  0  0  0  0  0  0  0  0  1  0  0  0  0  0  0  0  0  0  0  0  0  0\n",
      "   3 13  0  0  0]\n",
      " [ 0  0  0  0  0  0  0  0  0  0  0  0  0  0  0  0  0  0  0  0  0  0  0  0\n",
      "   3  0  4  0  0]\n",
      " [ 0  0  0  0  0  0  0  0  0  0  0  0  0  0  0  0  0  0  0  0  0  0  0  0\n",
      "   0  0  0  1  0]\n",
      " [ 0  0  0  0  0  0  0  0  0  0  0  0  0  0  0  0  0  0  0  0  0  0  0  0\n",
      "   0  0  0  0  1]]\n"
     ]
    },
    {
     "name": "stderr",
     "output_type": "stream",
     "text": [
      "C:\\Users\\cindy\\Anaconda3\\lib\\site-packages\\sklearn\\neighbors\\_classification.py:198: DataConversionWarning: A column-vector y was passed when a 1d array was expected. Please change the shape of y to (n_samples,), for example using ravel().\n",
      "  return self._fit(X, y)\n"
     ]
    }
   ],
   "source": [
    "#first splitting 60% out for training then 40% for validation & testing\n",
    "x_train, x_test, y_train, y_test = train_test_split(data[['roast_type','bean_type','rating','strength']].values, data[['temperature']].values, test_size=0.2, random_state=42) \n",
    "\n",
    "#then splitting the 40% into 20% validation & 20% testing\n",
    "x_train, x_validate, y_train, y_validate = train_test_split(x_train, y_train, test_size=0.25, random_state=42) \n",
    "\n",
    "knn_temp = neighbors.KNeighborsClassifier(n_neighbors=9) #set K Nearest Neighbors model as variable \n",
    "knn_temp.fit(x_train, y_train) #fitting training independent and dependent data \n",
    "y_pred = knn_temp.predict(x_validate) #model predict independent validation dataset values\n",
    "\n",
    "#outputs accuracy score of dependent validate values and predicted independent values\n",
    "#accuracy score: calculate the accuracy of faction of correct prediction\n",
    "#(TP+TN)/ (TP+FN+TN+FP)\n",
    "print('accuracy =', accuracy_score(y_validate, y_pred))\n",
    "\n",
    "#outputs confusion matrix of dependent validate values and predicted independent values\n",
    "print('confusion matrix')\n",
    "print(confusion_matrix(y_validate, y_pred))\n"
   ]
  },
  {
   "cell_type": "markdown",
   "metadata": {},
   "source": [
    "# KNN Model for Water Volume"
   ]
  },
  {
   "cell_type": "code",
   "execution_count": 127,
   "metadata": {},
   "outputs": [
    {
     "name": "stdout",
     "output_type": "stream",
     "text": [
      "accuracy = 0.7308707124010554\n",
      "confusion matrix\n",
      "[[ 2  0  0  1  0  0  0  0  4  0  0  0]\n",
      " [ 0 12  0  3  0  5  0  0  0  0  0  0]\n",
      " [ 0  0  0  0  0  0  0  0  1  0  0  0]\n",
      " [ 0  3  0 24  0  1  0  0  3  0  0  0]\n",
      " [ 0  0  0  0  0  0  0  0  1  0  0  0]\n",
      " [ 0  0  0  0  0 60  4  0  5  0  0  0]\n",
      " [ 0  7  0  2  0  6 99  0  5  0  0  0]\n",
      " [ 0  0  0  0  0  1  1  0  0  0  0  0]\n",
      " [ 0  3  0  3  0  4  1  0 80  0  0  0]\n",
      " [ 0  0  0  0  0  7  1  0  1  0  0  0]\n",
      " [ 0  0  0  0  0  1 12  0  0  0  0  0]\n",
      " [ 0  0  0  1  0  0  1  0 14  0  0  0]]\n"
     ]
    },
    {
     "name": "stderr",
     "output_type": "stream",
     "text": [
      "C:\\Users\\cindy\\Anaconda3\\lib\\site-packages\\sklearn\\neighbors\\_classification.py:198: DataConversionWarning: A column-vector y was passed when a 1d array was expected. Please change the shape of y to (n_samples,), for example using ravel().\n",
      "  return self._fit(X, y)\n"
     ]
    }
   ],
   "source": [
    "#first splitting 60% out for training then 40% for validation & testing\n",
    "x_train, x_test, y_train, y_test = train_test_split(data[['roast_type','bean_type','rating', 'strength']].values, data[['target_saturation']].values, test_size=0.2, random_state=42) \n",
    "\n",
    "#then splitting the 40% into 20% validation & 20% testing\n",
    "x_train, x_validate, y_train, y_validate = train_test_split(x_train, y_train, test_size=0.25, random_state=42) \n",
    "\n",
    "knn_sat = neighbors.KNeighborsClassifier(n_neighbors=9) #set K Nearest Neighbors model as variable \n",
    "knn_sat.fit(x_train, y_train) #fitting training independent and dependent data \n",
    "y_pred = knn_sat.predict(x_validate) #model predict independent validation dataset values\n",
    "\n",
    "#outputs accuracy score of dependent validate values and predicted independent values\n",
    "#accuracy score: calculate the accuracy of faction of correct prediction\n",
    "#(TP+TN)/ (TP+FN+TN+FP)\n",
    "print('accuracy =', accuracy_score(y_validate, y_pred))\n",
    "\n",
    "#outputs confusion matrix of dependent validate values and predicted independent values\n",
    "print('confusion matrix')\n",
    "print(confusion_matrix(y_validate, y_pred))\n"
   ]
  },
  {
   "cell_type": "markdown",
   "metadata": {},
   "source": [
    "# KNN Model for Grind Size"
   ]
  },
  {
   "cell_type": "code",
   "execution_count": 128,
   "metadata": {},
   "outputs": [
    {
     "name": "stdout",
     "output_type": "stream",
     "text": [
      "accuracy = 0.8073878627968337\n",
      "confusion matrix\n",
      "[[ 85   6  14]\n",
      " [ 16 110   4]\n",
      " [ 18  15 111]]\n"
     ]
    },
    {
     "name": "stderr",
     "output_type": "stream",
     "text": [
      "C:\\Users\\cindy\\Anaconda3\\lib\\site-packages\\sklearn\\neighbors\\_classification.py:198: DataConversionWarning: A column-vector y was passed when a 1d array was expected. Please change the shape of y to (n_samples,), for example using ravel().\n",
      "  return self._fit(X, y)\n"
     ]
    }
   ],
   "source": [
    "#first splitting 60% out for training then 40% for validation & testing\n",
    "x_train, x_test, y_train, y_test = train_test_split(data[['roast_type','bean_type','rating','strength']].values, data[['grind_size']].values, test_size=0.2, random_state=42) \n",
    "\n",
    "#then splitting the 40% into 20% validation & 20% testing\n",
    "x_train, x_validate, y_train, y_validate = train_test_split(x_train, y_train, test_size=0.25, random_state=42) \n",
    "\n",
    "knn_grind = neighbors.KNeighborsClassifier(n_neighbors=9) #set K Nearest Neighbors model as variable \n",
    "knn_grind.fit(x_train, y_train) #fitting training independent and dependent data \n",
    "y_pred = knn_grind.predict(x_validate) #model predict independent validation dataset values\n",
    "\n",
    "#outputs accuracy score of dependent validate values and predicted independent values\n",
    "#accuracy score: calculate the accuracy of faction of correct prediction\n",
    "#(TP+TN)/ (TP+FN+TN+FP)\n",
    "print('accuracy =', accuracy_score(y_validate, y_pred))\n",
    "\n",
    "#outputs confusion matrix of dependent validate values and predicted independent values\n",
    "print('confusion matrix')\n",
    "print(confusion_matrix(y_validate, y_pred))\n"
   ]
  },
  {
   "cell_type": "markdown",
   "metadata": {},
   "source": [
    "# KNN Model for Rating"
   ]
  },
  {
   "cell_type": "code",
   "execution_count": 129,
   "metadata": {},
   "outputs": [
    {
     "name": "stdout",
     "output_type": "stream",
     "text": [
      "accuracy = 0.7598944591029023\n",
      "confusion matrix\n",
      "[[17  0  0  0  0  0  4  4  0  4]\n",
      " [ 0 21  4  0  0  0  0  0  0  5]\n",
      " [ 0  0 22  1  0  0  2  0  1  0]\n",
      " [ 0  1  0 36  0  0  0  0  1  0]\n",
      " [ 0  0  0  0 27  3  5  0  3  1]\n",
      " [ 0  0 13  0  0 27  4  0  1  0]\n",
      " [ 0  0  1  0  0  2 38  0  0  0]\n",
      " [ 0  1  0  3  1  0  1 45  6  0]\n",
      " [ 0  2  3  5  0  0  0  7 38  1]\n",
      " [ 0  0  0  0  0  0  0  1  0 17]]\n"
     ]
    },
    {
     "name": "stderr",
     "output_type": "stream",
     "text": [
      "C:\\Users\\cindy\\Anaconda3\\lib\\site-packages\\sklearn\\neighbors\\_classification.py:198: DataConversionWarning: A column-vector y was passed when a 1d array was expected. Please change the shape of y to (n_samples,), for example using ravel().\n",
      "  return self._fit(X, y)\n"
     ]
    }
   ],
   "source": [
    "#first splitting 60% out for training then 40% for validation & testing\n",
    "x_train, x_test, y_train, y_test = train_test_split(data[['roast_type','bean_type','temperature','strength']].values, data[['rating']].values, test_size=0.2, random_state=42) \n",
    "\n",
    "#then splitting the 40% into 20% validation & 20% testing\n",
    "x_train, x_validate, y_train, y_validate = train_test_split(x_train, y_train, test_size=0.25, random_state=42) \n",
    "\n",
    "knn_rating = neighbors.KNeighborsClassifier(n_neighbors=9) #set K Nearest Neighbors model as variable \n",
    "knn_rating.fit(x_train, y_train) #fitting training independent and dependent data \n",
    "y_pred = knn_rating.predict(x_validate) #model predict independent validation dataset values\n",
    "\n",
    "#outputs accuracy score of dependent validate values and predicted independent values\n",
    "#accuracy score: calculate the accuracy of faction of correct prediction\n",
    "#(TP+TN)/ (TP+FN+TN+FP)\n",
    "print('accuracy =', accuracy_score(y_validate, y_pred))\n",
    "\n",
    "#outputs confusion matrix of dependent validate values and predicted independent values\n",
    "print('confusion matrix')\n",
    "print(confusion_matrix(y_validate, y_pred))\n"
   ]
  }
 ],
 "metadata": {
  "kernelspec": {
   "display_name": "Python 3.9.7 64-bit",
   "language": "python",
   "name": "python3"
  },
  "language_info": {
   "codemirror_mode": {
    "name": "ipython",
    "version": 3
   },
   "file_extension": ".py",
   "mimetype": "text/x-python",
   "name": "python",
   "nbconvert_exporter": "python",
   "pygments_lexer": "ipython3",
   "version": "3.9.7"
  },
  "vscode": {
   "interpreter": {
    "hash": "5c084dfba1174d069bb0c666fa9fc066710fb2ba3daac008b854bfb4b5ab9bee"
   }
  }
 },
 "nbformat": 4,
 "nbformat_minor": 4
}
